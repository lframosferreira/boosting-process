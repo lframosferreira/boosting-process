{
 "cells": [
  {
   "cell_type": "code",
   "execution_count": 141,
   "metadata": {},
   "outputs": [],
   "source": [
    "import pandas as pd\n",
    "import numpy as np\n",
    "import warnings\n",
    "import numpy.typing as npt\n",
    "from sklearn.model_selection import train_test_split, KFold\n",
    "from sklearn import metrics\n",
    "import seaborn as sns\n",
    "import json\n",
    "\n",
    "warnings.filterwarnings(\"ignore\")"
   ]
  },
  {
   "cell_type": "code",
   "execution_count": 142,
   "metadata": {},
   "outputs": [],
   "source": [
    "# constants\n",
    "\n",
    "TEST_SIZE: np.float16 = 0.3\n",
    "CROSS_VALIDATION_K: np.int8 = 5\n",
    "RANDOM_STATE: np.int8 = 42\n",
    "SQUARE_VALUES: list[str] = [\"x\", \"o\", \"b\"]"
   ]
  },
  {
   "cell_type": "code",
   "execution_count": 143,
   "metadata": {},
   "outputs": [
    {
     "data": {
      "text/html": [
       "<div>\n",
       "<style scoped>\n",
       "    .dataframe tbody tr th:only-of-type {\n",
       "        vertical-align: middle;\n",
       "    }\n",
       "\n",
       "    .dataframe tbody tr th {\n",
       "        vertical-align: top;\n",
       "    }\n",
       "\n",
       "    .dataframe thead th {\n",
       "        text-align: right;\n",
       "    }\n",
       "</style>\n",
       "<table border=\"1\" class=\"dataframe\">\n",
       "  <thead>\n",
       "    <tr style=\"text-align: right;\">\n",
       "      <th></th>\n",
       "      <th>tl</th>\n",
       "      <th>tm</th>\n",
       "      <th>tr</th>\n",
       "      <th>ml</th>\n",
       "      <th>mm</th>\n",
       "      <th>mr</th>\n",
       "      <th>bl</th>\n",
       "      <th>bm</th>\n",
       "      <th>br</th>\n",
       "      <th>positive</th>\n",
       "    </tr>\n",
       "  </thead>\n",
       "  <tbody>\n",
       "    <tr>\n",
       "      <th>0</th>\n",
       "      <td>x</td>\n",
       "      <td>x</td>\n",
       "      <td>x</td>\n",
       "      <td>x</td>\n",
       "      <td>o</td>\n",
       "      <td>o</td>\n",
       "      <td>x</td>\n",
       "      <td>o</td>\n",
       "      <td>o</td>\n",
       "      <td>True</td>\n",
       "    </tr>\n",
       "    <tr>\n",
       "      <th>1</th>\n",
       "      <td>x</td>\n",
       "      <td>x</td>\n",
       "      <td>x</td>\n",
       "      <td>x</td>\n",
       "      <td>o</td>\n",
       "      <td>o</td>\n",
       "      <td>o</td>\n",
       "      <td>x</td>\n",
       "      <td>o</td>\n",
       "      <td>True</td>\n",
       "    </tr>\n",
       "    <tr>\n",
       "      <th>2</th>\n",
       "      <td>x</td>\n",
       "      <td>x</td>\n",
       "      <td>x</td>\n",
       "      <td>x</td>\n",
       "      <td>o</td>\n",
       "      <td>o</td>\n",
       "      <td>o</td>\n",
       "      <td>o</td>\n",
       "      <td>x</td>\n",
       "      <td>True</td>\n",
       "    </tr>\n",
       "    <tr>\n",
       "      <th>3</th>\n",
       "      <td>x</td>\n",
       "      <td>x</td>\n",
       "      <td>x</td>\n",
       "      <td>x</td>\n",
       "      <td>o</td>\n",
       "      <td>o</td>\n",
       "      <td>o</td>\n",
       "      <td>b</td>\n",
       "      <td>b</td>\n",
       "      <td>True</td>\n",
       "    </tr>\n",
       "    <tr>\n",
       "      <th>4</th>\n",
       "      <td>x</td>\n",
       "      <td>x</td>\n",
       "      <td>x</td>\n",
       "      <td>x</td>\n",
       "      <td>o</td>\n",
       "      <td>o</td>\n",
       "      <td>b</td>\n",
       "      <td>o</td>\n",
       "      <td>b</td>\n",
       "      <td>True</td>\n",
       "    </tr>\n",
       "  </tbody>\n",
       "</table>\n",
       "</div>"
      ],
      "text/plain": [
       "  tl tm tr ml mm mr bl bm br  positive\n",
       "0  x  x  x  x  o  o  x  o  o      True\n",
       "1  x  x  x  x  o  o  o  x  o      True\n",
       "2  x  x  x  x  o  o  o  o  x      True\n",
       "3  x  x  x  x  o  o  o  b  b      True\n",
       "4  x  x  x  x  o  o  b  o  b      True"
      ]
     },
     "execution_count": 143,
     "metadata": {},
     "output_type": "execute_result"
    }
   ],
   "source": [
    "COLUMNS: list[str] = [\"tl\", \"tm\", \"tr\", \"ml\", \"mm\", \"mr\", \"bl\", \"bm\", \"br\", \"class\"]\n",
    "\n",
    "# ttt is a acronym for tic tac toe\n",
    "ttt_df: pd.DataFrame = pd.read_csv(\n",
    "    \"../data/tictactoe/tic-tac-toe.data\", header=None, names=COLUMNS\n",
    ")\n",
    "ttt_df[\"class\"] = ttt_df[\"class\"] == \"positive\"\n",
    "ttt_df.rename(columns={\"class\": \"positive\"}, inplace=True)\n",
    "ttt_df.head(5)"
   ]
  },
  {
   "attachments": {},
   "cell_type": "markdown",
   "metadata": {},
   "source": [
    "# Implementação da classe *AdaBoost*\n",
    "\n",
    "A classe *AdaBoost* é uma classe auxiliar para armazenar o objeto de um classificador que utiliza do método de *Adaptative Boosting*. Esta implementação aceita como entrada para seu método *fit* um *DataFrame* da biblioteca *Pandas* e o nome da coluna que possui as classes dos dados que se deseja fazer a classificação. Em particular, a implementação também funciona apenas para classificações binárias, isto é, problemas que possuem apenas duas classes. "
   ]
  },
  {
   "cell_type": "code",
   "execution_count": 144,
   "metadata": {},
   "outputs": [],
   "source": [
    "class AdaBoost:\n",
    "    def __init__(self, number_of_stumps: np.int_ = 5) -> None:\n",
    "        self.number_of_stumps: np.int_ = number_of_stumps\n",
    "        self.estimators_errors: npt.NDArray[np.float_] = np.zeros(\n",
    "            shape=number_of_stumps, dtype=np.float_\n",
    "        )\n",
    "        self.alphas: npt.NDArray[np.float_] = np.zeros(\n",
    "            shape=number_of_stumps, dtype=np.float_\n",
    "        )\n",
    "        self.estimators: list = []\n",
    "        self.fitted = False\n",
    "    \n",
    "    def __repr__(self) -> str:\n",
    "        return \"AdaBoost classifier\"\n",
    "\n",
    "    def fit(self, data: pd.DataFrame, label_col: np.string_ = None) -> None:\n",
    "        self.label_col = label_col or data.columns[-1]\n",
    "        stumps_used: list = []\n",
    "        best_stump_col: np.string_ = \"\"\n",
    "        best_stump_val: np.string_ = \"\"\n",
    "        alphas: npt.NDArray[np.float64] = np.zeros(\n",
    "            shape=self.number_of_stumps, dtype=np.float64\n",
    "        )\n",
    "        errors: npt.NDArray[np.float64] = np.zeros(\n",
    "            shape=self.number_of_stumps, dtype=np.float64\n",
    "        )\n",
    "        best_stump_predictions: npt.NDArray[np.int8] = np.zeros(\n",
    "            shape=data.shape[0], dtype=np.int8\n",
    "        )\n",
    "        true_labels: npt.NDArray[np.int_] = (\n",
    "            data[label_col].apply(lambda x: 1 if x else -1).to_numpy()\n",
    "        )\n",
    "        weights: npt.NDArray[np.float64] = (\n",
    "            np.ones(shape=data.shape[0], dtype=np.float64) / data.shape[0]\n",
    "        )\n",
    "        for i in np.arange(self.number_of_stumps):\n",
    "            curr_error: np.float64 = np.inf\n",
    "            for col in data.columns:\n",
    "                for val in data[col].unique():\n",
    "                    if (col, val) in stumps_used:\n",
    "                        continue\n",
    "                    if col == self.label_col:\n",
    "                        stump_predictions = (\n",
    "                            (data[col] | True) if val else (data[col] & False)\n",
    "                        )\n",
    "                    else:\n",
    "                        stump_predictions = data[col] == val\n",
    "                    new_stump_error: np.float64 = (\n",
    "                        (stump_predictions != data[self.label_col]).astype(np.int8) * weights\n",
    "                    ).sum()\n",
    "                    if new_stump_error < curr_error:\n",
    "                        best_stump_predictions = stump_predictions.copy()\n",
    "                        curr_error = new_stump_error\n",
    "                        best_stump_col = col\n",
    "                        best_stump_val = val\n",
    "            self.estimators_errors[i] = curr_error\n",
    "            self.alphas[i] = np.log((1 - self.estimators_errors[i]) / self.estimators_errors[i]) / 2\n",
    "            stumps_used.append((best_stump_col, best_stump_val))\n",
    "            best_stump_predictions = best_stump_predictions.astype(np.int8)\n",
    "            best_stump_predictions[best_stump_predictions == 0] = -1\n",
    "            weights *= np.exp(-1 * self.alphas[i] * best_stump_predictions * true_labels)\n",
    "            weights /= np.sum(weights)\n",
    "        self.fitted = True\n",
    "        self.stumps_used = stumps_used\n",
    "\n",
    "    def predict(self, X: pd.DataFrame) -> npt.NDArray[np.int8]:\n",
    "        assert self.fitted, \"The model should be fitted before being used to predict something\"\n",
    "        predictions: npt.NDArray[np.int8] = np.empty(shape=X.shape[0], dtype=np.int8)\n",
    "        for i, (_, row) in enumerate(X.iterrows()):\n",
    "            agg_sum: np.float64 = 0\n",
    "            for j ,(col, val) in enumerate(self.stumps_used):\n",
    "                if col == self.label_col:\n",
    "                    agg_sum += (1 if val else -1) * self.alphas[j]\n",
    "                else:\n",
    "                    agg_sum += (1 if row[col] == val else -1) * self.alphas[j]\n",
    "            predictions[i] = 1 if agg_sum > 0 else 0\n",
    "        return predictions\n"
   ]
  },
  {
   "attachments": {},
   "cell_type": "markdown",
   "metadata": {},
   "source": [
    "# Validação cruzada"
   ]
  },
  {
   "cell_type": "code",
   "execution_count": 145,
   "metadata": {},
   "outputs": [],
   "source": [
    "def adaboost_cross_validation(data: pd.DataFrame, k_splits: np.int8 = 5, number_of_stumps: np.int16 = 5) -> dict:\n",
    "    kf = KFold(n_splits=5, shuffle=True, random_state=RANDOM_STATE)\n",
    "    kf.get_n_splits(data)\n",
    "    accuracy_score: np.float_ = 0\n",
    "    precision_score: np.float_ = 0\n",
    "    recall_score: np.float_ = 0\n",
    "    f1_score: np.float_ = 0\n",
    "    for train_index, test_index in kf.split(data):\n",
    "        train_fold: pd.DataFrame = data.iloc[train_index]\n",
    "        test_fold: pd.DataFrame = data.iloc[test_index]\n",
    "        test_fold_X, test_fold_y = (\n",
    "            test_fold.loc[:, test_fold.columns != \"positive\"],\n",
    "            test_fold.loc[:, test_fold.columns == \"positive\"],\n",
    "        )\n",
    "        test_fold_y = test_fold_y.astype(np.int8).values\n",
    "        classifier = AdaBoost(number_of_stumps=number_of_stumps)\n",
    "        classifier.fit(data=train_fold, label_col=\"positive\")\n",
    "        predictions: npt.NDArray[np.int8] = classifier.predict(X=test_fold_X)\n",
    "\n",
    "        accuracy_score += metrics.accuracy_score(test_fold_y, predictions)\n",
    "        precision_score += metrics.precision_score(test_fold_y, predictions)\n",
    "        recall_score += metrics.recall_score(test_fold_y, predictions)\n",
    "        f1_score += metrics.f1_score(test_fold_y, predictions)\n",
    "\n",
    "    run_info: dict = {\n",
    "        \"accuracy_score\": accuracy_score / k_splits,\n",
    "        \"precision_score\": precision_score / k_splits,\n",
    "        \"recall_score\": recall_score / k_splits,\n",
    "        \"f1_score\": f1_score / k_splits,\n",
    "        \"random_state_seed\": RANDOM_STATE,\n",
    "        \"test_size\": TEST_SIZE,\n",
    "    }\n",
    "\n",
    "    return run_info"
   ]
  },
  {
   "cell_type": "code",
   "execution_count": 146,
   "metadata": {},
   "outputs": [
    {
     "data": {
      "text/plain": [
       "{'accuracy_score': 0.7447761194029849,\n",
       " 'precision_score': 0.7599499161322308,\n",
       " 'recall_score': 0.8811723233613069,\n",
       " 'f1_score': 0.8158533937520269,\n",
       " 'random_state_seed': 42,\n",
       " 'test_size': 0.3}"
      ]
     },
     "execution_count": 146,
     "metadata": {},
     "output_type": "execute_result"
    }
   ],
   "source": [
    "# splitting data in train and test\n",
    "# train data will pass through corss validation\n",
    "\n",
    "data: pd.DataFrame = ttt_df.copy()\n",
    "ttt_X: pd.DataFrame = data.iloc[:, 0 : data.shape[1] - 1]\n",
    "ttt_y: pd.DataFrame = data.iloc[:, data.shape[1] - 1].astype(int)\n",
    "X_train, X_test, y_train, y_test = train_test_split(\n",
    "    ttt_X, ttt_y, test_size=TEST_SIZE, random_state=RANDOM_STATE\n",
    ")\n",
    "\n",
    "train: pd.DataFrame = X_train.copy()\n",
    "train[\"positive\"] = y_train\n",
    "\n",
    "adaboost_cross_validation(data=train, k_splits=5, number_of_stumps=5)\n"
   ]
  },
  {
   "cell_type": "code",
   "execution_count": 147,
   "metadata": {},
   "outputs": [],
   "source": [
    "# plotar aqui variação das metricas no cross validation - estudar um pouco mais de cross validation\n",
    "# possivelmente checar nro de stums suados"
   ]
  },
  {
   "cell_type": "code",
   "execution_count": 148,
   "metadata": {},
   "outputs": [],
   "source": [
    "# aux function to generate run_info from predictions\n",
    "\n",
    "def get_run_info(y_pred: npt.NDArray[np.int8], y_test: npt.NDArray[np.int8]) -> dict:\n",
    "\n",
    "    accuracy_score: np.float_ = metrics.accuracy_score(y_test, y_pred)\n",
    "    precision_score: npt.NDArray[np.float_] = metrics.precision_score(\n",
    "        y_test, y_pred, zero_division=0\n",
    "    )\n",
    "    recall_score: npt.NDArray[np.float_] = metrics.recall_score(\n",
    "        y_test, y_pred, zero_division=0\n",
    "    )\n",
    "    f1_score: npt.NDArray[np.float_] = metrics.f1_score(\n",
    "        y_test, y_pred\n",
    "    )\n",
    "    run_info: dict = {\n",
    "        \"accuracy_score\": accuracy_score,\n",
    "        \"precision_score\": precision_score,\n",
    "        \"recall_score\": recall_score,\n",
    "        \"f1_score\": f1_score,\n",
    "        \"random_state_seed\": RANDOM_STATE,\n",
    "        \"test_size\": TEST_SIZE,\n",
    "    }\n",
    "    return run_info"
   ]
  },
  {
   "cell_type": "code",
   "execution_count": 149,
   "metadata": {},
   "outputs": [
    {
     "data": {
      "text/plain": [
       "{'accuracy_score': 0.7534722222222222,\n",
       " 'precision_score': 0.75,\n",
       " 'recall_score': 0.9481865284974094,\n",
       " 'f1_score': 0.8375286041189932,\n",
       " 'random_state_seed': 42,\n",
       " 'test_size': 0.3}"
      ]
     },
     "execution_count": 149,
     "metadata": {},
     "output_type": "execute_result"
    }
   ],
   "source": [
    "clf = AdaBoost(number_of_stumps=20)\n",
    "clf.fit(data=train, label_col=\"positive\")\n",
    "y_pred: npt.NDArray[np.int8] =  clf.predict(X=X_test)\n",
    "get_run_info(y_pred=y_pred, y_test=y_test)"
   ]
  },
  {
   "cell_type": "code",
   "execution_count": 151,
   "metadata": {},
   "outputs": [
    {
     "data": {
      "text/plain": [
       "<Axes: >"
      ]
     },
     "execution_count": 151,
     "metadata": {},
     "output_type": "execute_result"
    },
    {
     "data": {
      "image/png": "[encoded data removed]",
      "text/plain": [
       "<Figure size 640x480 with 1 Axes>"
      ]
     },
     "metadata": {},
     "output_type": "display_data"
    }
   ],
   "source": [
    "f1 = []\n",
    "for i in [3, 6, 9, 12, 15, 18, 21, 24, 27]:\n",
    "    clf = AdaBoost(number_of_stumps=i)\n",
    "    clf.fit(data=train, label_col=\"positive\")\n",
    "    y_pred: npt.NDArray[np.int8] =  clf.predict(X=X_test)\n",
    "    r = get_run_info(y_pred=y_pred, y_test=y_test)\n",
    "    f1.append(r[\"accuracy_score\"])\n",
    "sns.lineplot(f1)"
   ]
  }
 ],
 "metadata": {
  "kernelspec": {
   "display_name": "boosting-process",
   "language": "python",
   "name": "python3"
  },
  "language_info": {
   "codemirror_mode": {
    "name": "ipython",
    "version": 3
   },
   "file_extension": ".py",
   "mimetype": "text/x-python",
   "name": "python",
   "nbconvert_exporter": "python",
   "pygments_lexer": "ipython3",
   "version": "3.11.4"
  },
  "orig_nbformat": 4
 },
 "nbformat": 4,
 "nbformat_minor": 2
}
