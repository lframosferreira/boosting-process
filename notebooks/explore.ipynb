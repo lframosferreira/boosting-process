{
 "cells": [
  {
   "cell_type": "code",
   "execution_count": 39,
   "metadata": {},
   "outputs": [],
   "source": [
    "import polars as pl\n",
    "import numpy as np\n",
    "import numpy.typing as npt\n",
    "from sklearn.model_selection import train_test_split, cross_val_score"
   ]
  },
  {
   "cell_type": "code",
   "execution_count": 40,
   "metadata": {},
   "outputs": [],
   "source": [
    "# constants\n",
    "\n",
    "TEST_SIZE: np.float16 = 0.3\n",
    "CROSS_VALIDATION_K: np.int8 = 5\n",
    "RANDOM_STATE: np.int8 = 42"
   ]
  },
  {
   "cell_type": "code",
   "execution_count": 41,
   "metadata": {},
   "outputs": [
    {
     "data": {
      "text/html": [
       "<div><style>\n",
       ".dataframe > thead > tr > th,\n",
       ".dataframe > tbody > tr > td {\n",
       "  text-align: right;\n",
       "}\n",
       "</style>\n",
       "<small>shape: (5, 10)</small><table border=\"1\" class=\"dataframe\"><thead><tr><th>tl</th><th>tm</th><th>tr</th><th>ml</th><th>mm</th><th>mr</th><th>bl</th><th>bm</th><th>br</th><th>class</th></tr><tr><td>str</td><td>str</td><td>str</td><td>str</td><td>str</td><td>str</td><td>str</td><td>str</td><td>str</td><td>str</td></tr></thead><tbody><tr><td>&quot;x&quot;</td><td>&quot;x&quot;</td><td>&quot;x&quot;</td><td>&quot;x&quot;</td><td>&quot;o&quot;</td><td>&quot;o&quot;</td><td>&quot;x&quot;</td><td>&quot;o&quot;</td><td>&quot;o&quot;</td><td>&quot;positive&quot;</td></tr><tr><td>&quot;x&quot;</td><td>&quot;x&quot;</td><td>&quot;x&quot;</td><td>&quot;x&quot;</td><td>&quot;o&quot;</td><td>&quot;o&quot;</td><td>&quot;o&quot;</td><td>&quot;x&quot;</td><td>&quot;o&quot;</td><td>&quot;positive&quot;</td></tr><tr><td>&quot;x&quot;</td><td>&quot;x&quot;</td><td>&quot;x&quot;</td><td>&quot;x&quot;</td><td>&quot;o&quot;</td><td>&quot;o&quot;</td><td>&quot;o&quot;</td><td>&quot;o&quot;</td><td>&quot;x&quot;</td><td>&quot;positive&quot;</td></tr><tr><td>&quot;x&quot;</td><td>&quot;x&quot;</td><td>&quot;x&quot;</td><td>&quot;x&quot;</td><td>&quot;o&quot;</td><td>&quot;o&quot;</td><td>&quot;o&quot;</td><td>&quot;b&quot;</td><td>&quot;b&quot;</td><td>&quot;positive&quot;</td></tr><tr><td>&quot;x&quot;</td><td>&quot;x&quot;</td><td>&quot;x&quot;</td><td>&quot;x&quot;</td><td>&quot;o&quot;</td><td>&quot;o&quot;</td><td>&quot;b&quot;</td><td>&quot;o&quot;</td><td>&quot;b&quot;</td><td>&quot;positive&quot;</td></tr></tbody></table></div>"
      ],
      "text/plain": [
       "shape: (5, 10)\n",
       "┌─────┬─────┬─────┬─────┬───┬─────┬─────┬─────┬──────────┐\n",
       "│ tl  ┆ tm  ┆ tr  ┆ ml  ┆ … ┆ bl  ┆ bm  ┆ br  ┆ class    │\n",
       "│ --- ┆ --- ┆ --- ┆ --- ┆   ┆ --- ┆ --- ┆ --- ┆ ---      │\n",
       "│ str ┆ str ┆ str ┆ str ┆   ┆ str ┆ str ┆ str ┆ str      │\n",
       "╞═════╪═════╪═════╪═════╪═══╪═════╪═════╪═════╪══════════╡\n",
       "│ x   ┆ x   ┆ x   ┆ x   ┆ … ┆ x   ┆ o   ┆ o   ┆ positive │\n",
       "│ x   ┆ x   ┆ x   ┆ x   ┆ … ┆ o   ┆ x   ┆ o   ┆ positive │\n",
       "│ x   ┆ x   ┆ x   ┆ x   ┆ … ┆ o   ┆ o   ┆ x   ┆ positive │\n",
       "│ x   ┆ x   ┆ x   ┆ x   ┆ … ┆ o   ┆ b   ┆ b   ┆ positive │\n",
       "│ x   ┆ x   ┆ x   ┆ x   ┆ … ┆ b   ┆ o   ┆ b   ┆ positive │\n",
       "└─────┴─────┴─────┴─────┴───┴─────┴─────┴─────┴──────────┘"
      ]
     },
     "execution_count": 41,
     "metadata": {},
     "output_type": "execute_result"
    }
   ],
   "source": [
    "COLUMNS: list[str] = [\"tl\", \"tm\", \"tr\", \"ml\", \"mm\", \"mr\", \"bl\", \"bm\", \"br\", \"class\"]\n",
    "\n",
    "# ttt is a acronym for tic tac toe\n",
    "ttt_df: pl.DataFrame = pl.read_csv(\"../data/tic-tac-toe.data\", has_header=False, new_columns=COLUMNS)\n",
    "ttt_df.head()"
   ]
  },
  {
   "cell_type": "code",
   "execution_count": 42,
   "metadata": {},
   "outputs": [],
   "source": [
    "# splitting data\n",
    "\n",
    "data: npt.NDArray[np.string_] = ttt_df.to_numpy()\n",
    "ttt_X: npt.NDArray[np.string_] = data[:, 0:data.shape[1] - 1]\n",
    "ttt_y: npt.NDArray[np.string_] = data[:, data.shape[1] - 1]\n",
    "X_train, X_test, y_train, y_test = train_test_split(ttt_X, ttt_y, test_size=TEST_SIZE, random_state=RANDOM_STATE)"
   ]
  }
 ],
 "metadata": {
  "kernelspec": {
   "display_name": "boosting-process",
   "language": "python",
   "name": "python3"
  },
  "language_info": {
   "codemirror_mode": {
    "name": "ipython",
    "version": 3
   },
   "file_extension": ".py",
   "mimetype": "text/x-python",
   "name": "python",
   "nbconvert_exporter": "python",
   "pygments_lexer": "ipython3",
   "version": "3.11.4"
  },
  "orig_nbformat": 4
 },
 "nbformat": 4,
 "nbformat_minor": 2
}
