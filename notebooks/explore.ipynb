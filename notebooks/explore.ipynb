{
 "cells": [
  {
   "cell_type": "code",
   "execution_count": 3,
   "metadata": {},
   "outputs": [],
   "source": [
    "import pandas as pd\n",
    "import numpy as np\n",
    "import numpy.typing as npt\n",
    "from scipy.special import softmax\n",
    "from sklearn.model_selection import train_test_split, cross_val_score"
   ]
  },
  {
   "cell_type": "code",
   "execution_count": 4,
   "metadata": {},
   "outputs": [],
   "source": [
    "# constants\n",
    "\n",
    "TEST_SIZE: np.float16 = 0.3\n",
    "CROSS_VALIDATION_K: np.int8 = 5\n",
    "RANDOM_STATE: np.int8 = 42\n",
    "SQUARE_VALUES: list[str] = [\"x\", \"o\", \"b\"]"
   ]
  },
  {
   "cell_type": "code",
   "execution_count": 5,
   "metadata": {},
   "outputs": [
    {
     "data": {
      "text/html": [
       "<div>\n",
       "<style scoped>\n",
       "    .dataframe tbody tr th:only-of-type {\n",
       "        vertical-align: middle;\n",
       "    }\n",
       "\n",
       "    .dataframe tbody tr th {\n",
       "        vertical-align: top;\n",
       "    }\n",
       "\n",
       "    .dataframe thead th {\n",
       "        text-align: right;\n",
       "    }\n",
       "</style>\n",
       "<table border=\"1\" class=\"dataframe\">\n",
       "  <thead>\n",
       "    <tr style=\"text-align: right;\">\n",
       "      <th></th>\n",
       "      <th>tl</th>\n",
       "      <th>tm</th>\n",
       "      <th>tr</th>\n",
       "      <th>ml</th>\n",
       "      <th>mm</th>\n",
       "      <th>mr</th>\n",
       "      <th>bl</th>\n",
       "      <th>bm</th>\n",
       "      <th>br</th>\n",
       "      <th>positive</th>\n",
       "    </tr>\n",
       "  </thead>\n",
       "  <tbody>\n",
       "    <tr>\n",
       "      <th>0</th>\n",
       "      <td>x</td>\n",
       "      <td>x</td>\n",
       "      <td>x</td>\n",
       "      <td>x</td>\n",
       "      <td>o</td>\n",
       "      <td>o</td>\n",
       "      <td>x</td>\n",
       "      <td>o</td>\n",
       "      <td>o</td>\n",
       "      <td>True</td>\n",
       "    </tr>\n",
       "    <tr>\n",
       "      <th>1</th>\n",
       "      <td>x</td>\n",
       "      <td>x</td>\n",
       "      <td>x</td>\n",
       "      <td>x</td>\n",
       "      <td>o</td>\n",
       "      <td>o</td>\n",
       "      <td>o</td>\n",
       "      <td>x</td>\n",
       "      <td>o</td>\n",
       "      <td>True</td>\n",
       "    </tr>\n",
       "    <tr>\n",
       "      <th>2</th>\n",
       "      <td>x</td>\n",
       "      <td>x</td>\n",
       "      <td>x</td>\n",
       "      <td>x</td>\n",
       "      <td>o</td>\n",
       "      <td>o</td>\n",
       "      <td>o</td>\n",
       "      <td>o</td>\n",
       "      <td>x</td>\n",
       "      <td>True</td>\n",
       "    </tr>\n",
       "    <tr>\n",
       "      <th>3</th>\n",
       "      <td>x</td>\n",
       "      <td>x</td>\n",
       "      <td>x</td>\n",
       "      <td>x</td>\n",
       "      <td>o</td>\n",
       "      <td>o</td>\n",
       "      <td>o</td>\n",
       "      <td>b</td>\n",
       "      <td>b</td>\n",
       "      <td>True</td>\n",
       "    </tr>\n",
       "    <tr>\n",
       "      <th>4</th>\n",
       "      <td>x</td>\n",
       "      <td>x</td>\n",
       "      <td>x</td>\n",
       "      <td>x</td>\n",
       "      <td>o</td>\n",
       "      <td>o</td>\n",
       "      <td>b</td>\n",
       "      <td>o</td>\n",
       "      <td>b</td>\n",
       "      <td>True</td>\n",
       "    </tr>\n",
       "  </tbody>\n",
       "</table>\n",
       "</div>"
      ],
      "text/plain": [
       "  tl tm tr ml mm mr bl bm br  positive\n",
       "0  x  x  x  x  o  o  x  o  o      True\n",
       "1  x  x  x  x  o  o  o  x  o      True\n",
       "2  x  x  x  x  o  o  o  o  x      True\n",
       "3  x  x  x  x  o  o  o  b  b      True\n",
       "4  x  x  x  x  o  o  b  o  b      True"
      ]
     },
     "execution_count": 5,
     "metadata": {},
     "output_type": "execute_result"
    }
   ],
   "source": [
    "COLUMNS: list[str] = [\"tl\", \"tm\", \"tr\", \"ml\", \"mm\", \"mr\", \"bl\", \"bm\", \"br\", \"class\"]\n",
    "\n",
    "# ttt is a acronym for tic tac toe\n",
    "ttt_df: pd.DataFrame = pd.read_csv(\n",
    "    \"../data/tic-tac-toe.data\", header=None, names=COLUMNS\n",
    ")\n",
    "ttt_df[\"class\"] = ttt_df[\"class\"] == \"positive\"\n",
    "ttt_df.rename(columns={\"class\": \"positive\"}, inplace=True)\n",
    "ttt_df.head(5)"
   ]
  },
  {
   "cell_type": "code",
   "execution_count": 6,
   "metadata": {},
   "outputs": [],
   "source": [
    "# splitting data\n",
    "\n",
    "data: npt.NDArray[np.string_] = ttt_df.to_numpy()\n",
    "ttt_X: npt.NDArray[np.string_] = data[:, 0 : data.shape[1] - 1]\n",
    "ttt_y: npt.NDArray[np.string_] = data[:, data.shape[1] - 1]\n",
    "X_train, X_test, y_train, y_test = train_test_split(\n",
    "    ttt_X, ttt_y, test_size=TEST_SIZE, random_state=RANDOM_STATE\n",
    ")"
   ]
  },
  {
   "cell_type": "code",
   "execution_count": 7,
   "metadata": {},
   "outputs": [],
   "source": [
    "# definiton of boosting parameters\n",
    "\n",
    "NUMBER_OF_EXAMPLES: np.int8 = 3\n",
    "\n",
    "weights: npt.NDArray[np.float64] = (\n",
    "    np.ones(shape=NUMBER_OF_EXAMPLES, dtype=np.float64) / NUMBER_OF_EXAMPLES\n",
    ")\n",
    "alphas: npt.NDArray[np.float64] = np.zeros(shape=NUMBER_OF_EXAMPLES, dtype=np.float64)\n",
    "errors: npt.NDArray[np.float64] = np.zeros(shape=NUMBER_OF_EXAMPLES, dtype=np.float64)\n",
    "stumps_predictions: npt.NDArray[np.int_] = np.zeros(\n",
    "    shape=NUMBER_OF_EXAMPLES, dtype=np.int8\n",
    ")\n",
    "true_labels: npt.NDArray[np.int_] = np.zeros(shape=NUMBER_OF_EXAMPLES, dtype=np.int8)"
   ]
  },
  {
   "cell_type": "code",
   "execution_count": 8,
   "metadata": {},
   "outputs": [
    {
     "name": "stderr",
     "output_type": "stream",
     "text": [
      "/tmp/ipykernel_3031110/1510636699.py:17: RuntimeWarning: divide by zero encountered in divide\n",
      "  alphas = np.where(errors != 0.0, np.log((1 - errors) / errors) / 2, errors)\n"
     ]
    },
    {
     "data": {
      "text/plain": [
       "array([0.66379121, 0.1681044 , 0.1681044 ])"
      ]
     },
     "execution_count": 8,
     "metadata": {},
     "output_type": "execute_result"
    }
   ],
   "source": [
    "misclassified_instances: np.int16 = ttt_df.size\n",
    "best_stump_col: np.string_ = \"\"\n",
    "best_stump_square_val: np.string_ = \"\"\n",
    "\n",
    "for col in ttt_df.columns:\n",
    "    for square_value in SQUARE_VALUES:\n",
    "        stump_decisions: pd.Series = ttt_df[col] == square_value\n",
    "        new_stump_misclassified_instances: np.int16 = (\n",
    "            stump_decisions ^ ttt_df.positive\n",
    "        ).sum()\n",
    "        if new_stump_misclassified_instances < misclassified_instances:\n",
    "            misclassified_instances = new_stump_misclassified_instances\n",
    "            best_stump_col = col\n",
    "            best_stump_square_val = square_value\n",
    "\n",
    "errors[0] = misclassified_instances / ttt_df.size\n",
    "alphas = np.where(errors != 0.0, np.log((1 - errors) / errors) / 2, errors)\n",
    "\n",
    "\n",
    "stumps_predictions[0] = -1\n",
    "true_labels[0] = 1\n",
    "weights = softmax(weights * np.exp(-1 * alphas * stumps_predictions * true_labels))\n",
    "weights"
   ]
  },
  {
   "cell_type": "code",
   "execution_count": null,
   "metadata": {},
   "outputs": [],
   "source": []
  }
 ],
 "metadata": {
  "kernelspec": {
   "display_name": "boosting-process",
   "language": "python",
   "name": "python3"
  },
  "language_info": {
   "codemirror_mode": {
    "name": "ipython",
    "version": 3
   },
   "file_extension": ".py",
   "mimetype": "text/x-python",
   "name": "python",
   "nbconvert_exporter": "python",
   "pygments_lexer": "ipython3",
   "version": "3.11.4"
  },
  "orig_nbformat": 4
 },
 "nbformat": 4,
 "nbformat_minor": 2
}
